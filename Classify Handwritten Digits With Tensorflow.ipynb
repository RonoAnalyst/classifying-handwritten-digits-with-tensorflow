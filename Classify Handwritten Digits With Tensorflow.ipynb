{
 "cells": [
  {
   "cell_type": "markdown",
   "id": "50df88bf-e66a-4a32-9ea5-2c2f315fd25d",
   "metadata": {},
   "source": [
    "## **Problem Statement: Handwritten Digit Recognition**\n",
    "\n",
    "* You are tasked with creating a machine learning model that can recognize and classify handwritten digits from 0 to 9.\n",
    "* The goal is to build a neural network using TensorFlow and train it on the MNIST dataset, which consists of thousands of grayscale images of handwritten digits."
   ]
  },
  {
   "cell_type": "code",
   "execution_count": 5,
   "id": "c2ef2236-764c-4419-a6ee-3fc64c44d7a6",
   "metadata": {
    "tags": []
   },
   "outputs": [
    {
     "name": "stdout",
     "output_type": "stream",
     "text": [
      "Epoch 1/5\n",
      "1875/1875 [==============================] - 17s 8ms/step - loss: 0.3000 - accuracy: 0.9127\n",
      "Epoch 2/5\n",
      "1875/1875 [==============================] - 16s 8ms/step - loss: 0.1475 - accuracy: 0.9559\n",
      "Epoch 3/5\n",
      "1875/1875 [==============================] - 15s 8ms/step - loss: 0.1093 - accuracy: 0.9674\n",
      "Epoch 4/5\n",
      "1875/1875 [==============================] - 15s 8ms/step - loss: 0.0891 - accuracy: 0.9727\n",
      "Epoch 5/5\n",
      "1875/1875 [==============================] - 16s 9ms/step - loss: 0.0771 - accuracy: 0.9759\n",
      "313/313 - 1s - loss: 0.0749 - accuracy: 0.9772 - 1s/epoch - 5ms/step\n",
      "\n",
      "Test accuracy: 0.9771999716758728\n",
      "313/313 [==============================] - 2s 5ms/step\n"
     ]
    },
    {
     "data": {
      "image/png": "[encoded data removed]",
      "text/plain": [
       "<Figure size 640x480 with 1 Axes>"
      ]
     },
     "metadata": {},
     "output_type": "display_data"
    }
   ],
   "source": [
    "# Import necessary libraries\n",
    "import tensorflow as tf  # This is the framework that powers our machine learning\n",
    "from tensorflow import keras  # Keras is a part of TensorFlow that makes it easier to create neural networks\n",
    "import numpy as np  # We'll use this for math operations\n",
    "import matplotlib.pyplot as plt  # This helps us show images and plots\n",
    "\n",
    "# Load the MNIST dataset\n",
    "mnist = keras.datasets.mnist\n",
    "(train_images, train_labels), (test_images, test_labels) = mnist.load_data()\n",
    "\n",
    "# Preprocess the data: We're getting the data ready for our machine learning model\n",
    "train_images = train_images / 255.0  # We're making sure pixel values are between 0 and 1\n",
    "test_images = test_images / 255.0\n",
    "\n",
    "# Build the neural network model\n",
    "model = keras.Sequential([\n",
    "    keras.layers.Flatten(input_shape=(28, 28)),  # Flatten the 28x28 images to a 1D array\n",
    "    keras.layers.Dense(128, activation='relu'),  # A hidden layer with 128 neurons and ReLU activation\n",
    "    keras.layers.Dropout(0.2),  # Dropout helps prevent overfitting\n",
    "    keras.layers.Dense(10)  # The output layer with 10 units for digits 0 to 9\n",
    "])\n",
    "\n",
    "# Compile the model: This sets up how the model should learn\n",
    "model.compile(optimizer='adam',  # Adam is a good optimizer for many problems\n",
    "              loss=tf.keras.losses.SparseCategoricalCrossentropy(from_logits=True),  # This is how we measure our error\n",
    "              metrics=['accuracy'])  # This is a helpful metric to see how well our model is doing\n",
    "\n",
    "# Train the model: We're teaching our model to recognize digits\n",
    "model.fit(train_images, train_labels, epochs=5)  # We repeat this process 5 times\n",
    "\n",
    "# Evaluate the model on test data: We're checking how well our model can recognize new, unseen data\n",
    "test_loss, test_acc = model.evaluate(test_images, test_labels, verbose=2)\n",
    "print(\"\\nTest accuracy:\", test_acc)\n",
    "\n",
    "# Make predictions on test images: Now our model can guess what digits are in new pictures\n",
    "probability_model = tf.keras.Sequential([model, tf.keras.layers.Softmax()])\n",
    "predictions = probability_model.predict(test_images)\n",
    "\n",
    "# Show a random test image and what our model thinks it is\n",
    "rand_idx = np.random.randint(0, len(test_images))\n",
    "plt.figure()\n",
    "plt.imshow(test_images[rand_idx], cmap=plt.cm.binary)\n",
    "plt.title(f\"Actual Label: {test_labels[rand_idx]}\\nPredicted Label: {np.argmax(predictions[rand_idx])}\")\n",
    "plt.show()"
   ]
  },
  {
   "cell_type": "code",
   "execution_count": null,
   "id": "11e019b9-cf0c-4b1d-8daa-be1b5cd27b66",
   "metadata": {},
   "outputs": [],
   "source": []
  }
 ],
 "metadata": {
  "kernelspec": {
   "display_name": "Python 3 (ipykernel)",
   "language": "python",
   "name": "python3"
  },
  "language_info": {
   "codemirror_mode": {
    "name": "ipython",
    "version": 3
   },
   "file_extension": ".py",
   "mimetype": "text/x-python",
   "name": "python",
   "nbconvert_exporter": "python",
   "pygments_lexer": "ipython3",
   "version": "3.10.13"
  }
 },
 "nbformat": 4,
 "nbformat_minor": 5
}
